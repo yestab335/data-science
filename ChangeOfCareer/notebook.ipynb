{
 "cells": [
  {
   "cell_type": "markdown",
   "metadata": {},
   "source": [
    "# Field of Study vs. Occupation\n",
    "Adam Ben-Aamr\n",
    "\n",
    "12-10-2024\n",
    "\n",
    "# Data Introduction\n",
    "Many individuals enter college or university with an idea of what they want to focus their career on. However, there are many instances where these same individuals end up changeing their choice of career. I have always been curious about the factors that influence career changes. I want to explore how someone's field of study impacts their likelihood to stick with or switch their careers. According to the distributor and maintainer, this dataset is designed to help explore and predict whether individuals are likely to change their occupation based on their academic background, job experience, and other demographic factors.\n",
    "\n",
    "It is unknown where this data origniated from and everything is completely annonymous. This could be a potential bias as it could provide the opporunity of eliminating some subset of bias. The csv file used for analysis in this project was retrieved from [Kaggle](https://www.kaggle.com/datasets/jahnavipaliwal/field-of-study-vs-occupation) uploaded by the user [Jahnavi Paliwal](https://www.kaggle.com/jahnavipaliwal) under the Apache 2.0 license.\n",
    "\n",
    "The features that will be used in this analysis would be `Field of Study`, `Years of Expereince`, `Education Level`, `Current Occupation`, `Idustry Growth Rate`, `Job Satisfaction`, `Work-Life Balance`, `Job Opportunities`, `Salary`, `Job Security`, `Career Change Interest`, `Skills Gap`, `Family Influence`, `Mentorship Available` with the target variable being `Likely to Change Occupation`.\n",
    "\n",
    "Attribute Information:\n",
    "1. Field of Study: The area of academic focus during the individual’s education\n",
    "2. Current Occupation: The individual's current job or industry they are employed in (Software Engineer, Mechanical Engineer, etc.)\n",
    "3. Age: The age of the individual\n",
    "4. Gender: The gender of the individual (Male, Female)\n",
    "5. Years of Experience: The number of years the individual has been in the workforce\n",
    "6. Education Level: The highest level of education completed by the individual (High School, Bachelor's, Master's, PhD)\n",
    "7. Industry Growth Rate: The growth rate of the industry the individual works in (High, Medium, Low)\n",
    "8. Job Satisfaction: A rating of the individual’s job satisfaction (1 - 10 scale)\n",
    "9. Work-Life Balance: A rating of the individual's perceived work-life balance (1 - 10 scale)\n",
    "10. Job Opportunities: The number of available job opportunities in the individual’s field\n",
    "11. Salary: The annual salary of the individual (in USD or local currency equivalent)\n",
    "12. Job Security: A rating of the individual’s perceived job security (1 - 10 scale)\n",
    "13. Career Change Interest: Whether the individual is interested in changing their occupation (1 for yes, 0 for no)\n",
    "14. Skills Gap: A measure of how well the individual’s current skills match their job requirements (1 - 10 scale)\n",
    "15. Family Influence: The degree of influence the individual’s family has on their career choice (None, Low, Medium, High)\n",
    "16. Mentorship Available: Whether the individual has access to a mentor in their current job\n",
    "17. Certifications: Whether the individual holds any certifications relevant to their occupation\n",
    "18. Freelancing Expereince: Whether the individual has freelanced in the past\n",
    "19. Geographic Mobility: Whether the individual is willing to relocate for a job\n",
    "20. Professional Networks: A measure of how strong the individual's professional network is (1 - 10 scale)\n",
    "21. Career Change Events: The number of career changes the individual has made in the past\n",
    "22. Technology Adoption: A measure of the individual’s comfort level with adopting new technologies (1 - 10 scale)\n",
    "23. Likely to Change Occupation: Variable indicating whether an individual is likely to change their occupation (1 for likely to change, 0 for unlikely to change)\n",
    "\n",
    "In this analytical endeavor, I will be performing a classification analysis"
   ]
  },
  {
   "cell_type": "code",
   "execution_count": null,
   "metadata": {},
   "outputs": [],
   "source": [
    "import pandas as pd\n",
    "from datacleaner import *\n",
    "import matplotlib.pyplot as plt\n",
    "import seaborn as sns"
   ]
  },
  {
   "cell_type": "markdown",
   "metadata": {},
   "source": [
    "## Descriptive Statistics\n",
    "The first step is to visually inspect the new data set and clean it up if necessary."
   ]
  },
  {
   "cell_type": "code",
   "execution_count": null,
   "metadata": {},
   "outputs": [],
   "source": [
    "data = pd.read_csv('career_change_prediction_dataset.csv')\n",
    "\n",
    "data.head()"
   ]
  },
  {
   "cell_type": "markdown",
   "metadata": {},
   "source": [
    "This exploration will focus on 14 of the 23 variables presented in this dataset: Field of Study, Years of Expereince, Education Level, Current Occupation, Idustry Growth Rate, Job Satisfaction, Work-Life Balance, Job Opportunities, Salary, Job Security, Career Change Interest, Skills Gap, Family Influence, Mentorship Available\n",
    "\n",
    "Let's check for missing variables:"
   ]
  },
  {
   "cell_type": "code",
   "execution_count": null,
   "metadata": {},
   "outputs": [],
   "source": [
    "# Check for missing values or duplicate rows\n",
    "data_quality = print_data_quality(data)\n",
    "\n",
    "data_quality"
   ]
  },
  {
   "cell_type": "markdown",
   "metadata": {},
   "source": [
    "Since there are no empty cells and no duplicates within the dataset, we can continute our data exploration without cleaning."
   ]
  },
  {
   "cell_type": "code",
   "execution_count": null,
   "metadata": {},
   "outputs": [],
   "source": [
    "# Drop columns not focused on for analysis\n",
    "data = data.drop(['Age', 'Gender', 'Certifications', 'Freelancing Experience', 'Geographic Mobility', 'Professional Networks', 'Technology Adoption'], axis=1)\n",
    "\n",
    "# Check to see if all columns are accurately represented\n",
    "data.info()"
   ]
  },
  {
   "cell_type": "code",
   "execution_count": null,
   "metadata": {},
   "outputs": [],
   "source": [
    "data.describe()"
   ]
  },
  {
   "cell_type": "code",
   "execution_count": null,
   "metadata": {},
   "outputs": [],
   "source": [
    "# Remap the int categories to str\n",
    "data['Likely to Change Occupation'] = data['Likely to Change Occupation'].map({\n",
    "  0: 'No',\n",
    "  1: 'Yes',\n",
    "})\n",
    "\n",
    "# Count the class distribution\n",
    "change_occupation = data.groupby('Likely to Change Occupation')\n",
    "\n",
    "change_occupation.count()"
   ]
  },
  {
   "cell_type": "markdown",
   "metadata": {},
   "source": [
    "### Description\n",
    "In the results displayed, you can see the data has 38,444 records, each with 23 columns.\n",
    "\n",
    "Likely to Change Occupation is a categorical variable represented with numerical values (0 indicating no and 1 indicating yes).\n",
    "\n",
    "Missing attribute values: none\n",
    "\n",
    "Class distribution: 16279 not likely to change occupation, 22165 likely to change occupation\n",
    "\n",
    "## Visualize Distribution of Data"
   ]
  },
  {
   "cell_type": "code",
   "execution_count": null,
   "metadata": {},
   "outputs": [],
   "source": [
    "# View the distribution of the target variable\n",
    "fig, ax = plt.subplots(1, 2, figsize=(12, 5))\n",
    "x1 = data['Years of Experience']\n",
    "y1 = data['Job Satisfaction']\n",
    "x2 = data['Salary']\n",
    "y2 = data['Job Opportunities']\n",
    "\n",
    "# Left scatter plot\n",
    "sns.scatterplot(data=data, x=x1, y=y1, ax=ax[0], hue='Likely to Change Occupation')\n",
    "ax[0].set_title('Years of Experience vs. Job Satisfaction')\n",
    "\n",
    "# Right scatter plot\n",
    "sns.scatterplot(data=data, x=x2, y=y2, ax=ax[1], hue='Likely to Change Occupation')\n",
    "ax[1].set_title('Salary vs. Job opportunities')\n",
    "\n",
    "plt.tight_layout()\n",
    "plt.show()"
   ]
  },
  {
   "cell_type": "code",
   "execution_count": null,
   "metadata": {},
   "outputs": [],
   "source": [
    "fig, ax = plt.subplots(1, 2, figsize=(12, 5))\n",
    "\n",
    "# Density plot of Years of Experience distribution\n",
    "sns.kdeplot(data[data['Likely to Change Occupation'] == 'Yes']['Years of Experience'], fill=True, label='Yes', ax=ax[0])\n",
    "sns.kdeplot(data[data['Likely to Change Occupation'] == 'No']['Years of Experience'], fill=True, label='No', ax=ax[0])\n",
    "ax[0].set_title('Density Plot of Years of Experience by Likely to Change Occupation')\n",
    "\n",
    "# Density plot of Job Satisfaction distribution\n",
    "sns.kdeplot(data[data['Likely to Change Occupation'] == 'Yes']['Job Satisfaction'], fill=True, label='Yes', ax=ax[1])\n",
    "sns.kdeplot(data[data['Likely to Change Occupation'] == 'No']['Job Satisfaction'], fill=True, label='No', ax=ax[1])\n",
    "ax[1].set_title('Density Plot of Job Satisfaction by Likely to Change Occupation')\n",
    "\n",
    "plt.legend()\n",
    "plt.show()"
   ]
  },
  {
   "cell_type": "code",
   "execution_count": null,
   "metadata": {},
   "outputs": [],
   "source": [
    "# Reassign all str representations to int representations\n",
    "data['Field of Study'] = data['Field of Study'].map({\n",
    "  'Medicine': 1,\n",
    "  'Education': 2,\n",
    "  'Arts': 3,\n",
    "  'Computer Science': 4,\n",
    "  'Business': 5,\n",
    "  'Mechanical Engineering': 6,\n",
    "  'Biology': 7,\n",
    "  'Law': 8,\n",
    "  'Economics': 9,\n",
    "  'Psychology': 10\n",
    "})\n",
    "\n",
    "data['Current Occupation'] = data['Current Occupation'].map({\n",
    "  'Business Analyst': 1,\n",
    "  'Economist': 2,\n",
    "  'Biologist': 3,\n",
    "  'Doctor': 4,\n",
    "  'Lawyer': 5,\n",
    "  'Software Developer': 6,\n",
    "  'Artist': 7,\n",
    "  'Psychologist': 8,\n",
    "  'Teacher': 9,\n",
    "  'Mechanical Engineer': 10,\n",
    "})\n",
    "\n",
    "data['Education Level'] = data['Education Level'].map({\n",
    "  'High School': 1,\n",
    "  'Bachelor\\'s': 2,\n",
    "  'Master\\'s': 3,\n",
    "  'PhD': 4,\n",
    "})\n",
    "\n",
    "data['Industry Growth Rate'] = data['Industry Growth Rate'].map({\n",
    "  'Low': 1,\n",
    "  'Medium': 2,\n",
    "  'High': 3,\n",
    "})\n",
    "\n",
    "data['Family Influence'] = data['Family Influence'].map({\n",
    "  'None': 1,\n",
    "  'Low': 2,\n",
    "  'Medium': 3,\n",
    "  'High': 4,\n",
    "})\n",
    "\n",
    "sns.pairplot(data, hue='Likely to Change Occupation', height=16, vars=['Field of Study', 'Current Occupation', 'Years of Experience', 'Education Level', 'Industry Growth Rate', 'Job Satisfaction', 'Work-Life Balance', 'Job Opportunities', 'Salary', 'Job Security', 'Career Change Interest', 'Skills Gap', 'Family Influence', 'Mentorship Available', 'Career Change Events', 'Likely to Change Occupation'])"
   ]
  }
 ],
 "metadata": {
  "kernelspec": {
   "display_name": "env",
   "language": "python",
   "name": "python3"
  },
  "language_info": {
   "codemirror_mode": {
    "name": "ipython",
    "version": 3
   },
   "file_extension": ".py",
   "mimetype": "text/x-python",
   "name": "python",
   "nbconvert_exporter": "python",
   "pygments_lexer": "ipython3",
   "version": "3.13.0"
  }
 },
 "nbformat": 4,
 "nbformat_minor": 2
}
