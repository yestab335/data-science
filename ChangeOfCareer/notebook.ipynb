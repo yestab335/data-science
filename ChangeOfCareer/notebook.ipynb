{
 "cells": [
  {
   "cell_type": "markdown",
   "metadata": {},
   "source": [
    "# Field of Study vs. Occupation\n",
    "Adam Ben-Aamr\n",
    "\n",
    "12-10-2024\n",
    "\n",
    "# Data Introduction\n",
    "Many individuals enter college or university with an idea of what they want to focus their career on. However, there are many instances where these same individuals end up changeing their choice of career. I have always been curious about the factors that influence career changes. I want to explore how someone's field of study impacts their likelihood to stick with or switch their careers. According to the distributor and maintainer, this dataset is designed to help explore and predict whether individuals are likely to change their occupation based on their academic background, job experience, and other demographic factors.\n",
    "\n",
    "It is unknown where this data origniated from and everything is completely annonymous. This could be a potential bias as it could provide the opporunity of eliminating some subset of bias. The csv file used for analysis in this project was retrieved from [Kaggle](https://www.kaggle.com/datasets/jahnavipaliwal/field-of-study-vs-occupation) uploaded by the user [Jahnavi Paliwal](https://www.kaggle.com/jahnavipaliwal) under the Apache 2.0 license.\n",
    "\n",
    "The features that will be used in this analysis would be `Field of Study`, `Years of Expereince`, `Education Level`, `Current Occupation`, `Idustry Growth Rate`, `Job Satisfaction`, `Work-Life Balance`, `Job Opportunities`, `Salary`, `Job Security`, `Career Change Interest`, `Skills Gap`, `Family Influence`, `Mentorship Available` with the target variable being `Likely to Change Occupation`.\n",
    "\n",
    "Attribute Information:\n",
    "1. Field of Study: The area of academic focus during the individual’s education\n",
    "2. Current Occupation: The individual's current job or industry they are employed in (Software Engineer, Mechanical Engineer, etc.)\n",
    "3. Age: The age of the individual\n",
    "4. Gender: The gender of the individual (Male, Female)\n",
    "5. Years of Experience: The number of years the individual has been in the workforce\n",
    "6. Education Level: The highest level of education completed by the individual (High School, Bachelor's, Master's, PhD)\n",
    "7. Industry Growth Rate: The growth rate of the industry the individual works in (High, Medium, Low)\n",
    "8. Job Satisfaction: A rating of the individual’s job satisfaction (1 - 10 scale)\n",
    "9. Work-Life Balance: A rating of the individual's perceived work-life balance (1 - 10 scale)\n",
    "10. Job Opportunities: The number of available job opportunities in the individual’s field\n",
    "11. Salary: The annual salary of the individual (in USD or local currency equivalent)\n",
    "12. Job Security: A rating of the individual’s perceived job security (1 - 10 scale)\n",
    "13. Career Change Interest: Whether the individual is interested in changing their occupation (1 for yes, 0 for no)\n",
    "14. Skills Gap: A measure of how well the individual’s current skills match their job requirements (1 - 10 scale)\n",
    "15. Family Influence: The degree of influence the individual’s family has on their career choice (None, Low, Medium, High)\n",
    "16. Mentorship Available: Whether the individual has access to a mentor in their current job\n",
    "17. Certifications: Whether the individual holds any certifications relevant to their occupation\n",
    "18. Freelancing Expereince: Whether the individual has freelanced in the past\n",
    "19. Geographic Mobility: Whether the individual is willing to relocate for a job\n",
    "20. Professional Networks: A measure of how strong the individual's professional network is (1 - 10 scale)\n",
    "21. Career Change Events: The number of career changes the individual has made in the past\n",
    "22. Technology Adoption: A measure of the individual’s comfort level with adopting new technologies (1 - 10 scale)\n",
    "23. Likely to Change Occupation: Variable indicating whether an individual is likely to change their occupation (1 for likely to change, 0 for unlikely to change)\n",
    "\n",
    "In this analytical endeavor, I will be performing a classification analysis"
   ]
  },
  {
   "cell_type": "code",
   "execution_count": null,
   "metadata": {},
   "outputs": [],
   "source": []
  },
  {
   "cell_type": "markdown",
   "metadata": {},
   "source": [
    "## Descriptive Statistics\n",
    "The first step is to visually inspect the new data set."
   ]
  },
  {
   "cell_type": "code",
   "execution_count": null,
   "metadata": {},
   "outputs": [],
   "source": []
  }
 ],
 "metadata": {
  "kernelspec": {
   "display_name": "env",
   "language": "python",
   "name": "python3"
  },
  "language_info": {
   "name": "python",
   "version": "3.13.0"
  }
 },
 "nbformat": 4,
 "nbformat_minor": 2
}
