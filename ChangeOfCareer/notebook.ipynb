{
 "cells": [
  {
   "cell_type": "markdown",
   "metadata": {},
   "source": [
    "# Field of Study vs. Occupation\n",
    "Adam Ben-Aamr\n",
    "\n",
    "12-10-2024\n",
    "\n",
    "# Data Introduction\n",
    "Many individuals enter college or university with an idea of what they want to focus their career on. However, there are many instances where these same individuals end up changeing their choice of career. I have always been curious about the factors that influence career changes. I want to explore how someone's field of study impacts their likelihood to stick with or switch their careers. According to the distributor and maintainer, this dataset is designed to help explore and predict whether individuals are likely to change their occupation based on their academic background, job experience, and other demographic factors.\n",
    "\n",
    "It is unknown where this data origniated from and everything is completely annonymous. This could be a potential bias as it could provide the opporunity of eliminating some subset of bias. The csv file used for analysis in this project was retrieved from [Kaggle](https://www.kaggle.com/datasets/jahnavipaliwal/field-of-study-vs-occupation) uploaded by the user [Jahnavi Paliwal](https://www.kaggle.com/jahnavipaliwal) under the Apache 2.0 license.\n",
    "\n",
    "The features that will be used in this analysis would be `Field of Study`, `Years of Expereince`, `Education Level`, `Current Occupation`, `Idustry Growth Rate`, `Job Satisfaction`, `Work-Life Balance`, `Job Opportunities`, `Salary`, `Job Security`, `Career Change Interest`, `Skills Gap`, `Family Influence`, `Mentorship Available` with the target variable being `Likely to Change Occupation`.\n",
    "\n",
    "Attribute Information:\n",
    "1. Field of Study: The area of academic focus during the individual’s education\n",
    "2. Current Occupation: The individual's current job or industry they are employed in (Software Engineer, Mechanical Engineer, etc.)\n",
    "3. Age: The age of the individual\n",
    "4. Gender: The gender of the individual (Male, Female)\n",
    "5. Years of Experience: The number of years the individual has been in the workforce\n",
    "6. Education Level: The highest level of education completed by the individual (High School, Bachelor's, Master's, PhD)\n",
    "7. Industry Growth Rate: The growth rate of the industry the individual works in (High, Medium, Low)\n",
    "8. Job Satisfaction: A rating of the individual’s job satisfaction (1 - 10 scale)\n",
    "9. Work-Life Balance: A rating of the individual's perceived work-life balance (1 - 10 scale)\n",
    "10. Job Opportunities: The number of available job opportunities in the individual’s field\n",
    "11. Salary: The annual salary of the individual (in USD or local currency equivalent)\n",
    "12. Job Security: A rating of the individual’s perceived job security (1 - 10 scale)\n",
    "13. Career Change Interest: Whether the individual is interested in changing their occupation (1 for yes, 0 for no)\n",
    "14. Skills Gap: A measure of how well the individual’s current skills match their job requirements (1 - 10 scale)\n",
    "15. Family Influence: The degree of influence the individual’s family has on their career choice (None, Low, Medium, High)\n",
    "16. Mentorship Available: Whether the individual has access to a mentor in their current job\n",
    "17. Certifications: Whether the individual holds any certifications relevant to their occupation\n",
    "18. Freelancing Expereince: Whether the individual has freelanced in the past\n",
    "19. Geographic Mobility: Whether the individual is willing to relocate for a job\n",
    "20. Professional Networks: A measure of how strong the individual's professional network is (1 - 10 scale)\n",
    "21. Career Change Events: The number of career changes the individual has made in the past\n",
    "22. Technology Adoption: A measure of the individual’s comfort level with adopting new technologies (1 - 10 scale)\n",
    "23. Likely to Change Occupation: Variable indicating whether an individual is likely to change their occupation (1 for likely to change, 0 for unlikely to change)\n",
    "\n",
    "In this analytical endeavor, I will be performing a classification analysis"
   ]
  },
  {
   "cell_type": "code",
   "execution_count": null,
   "metadata": {},
   "outputs": [],
   "source": [
    "import pandas as pd\n",
    "from datacleaner import *\n",
    "import matplotlib.pyplot as plt\n",
    "import seaborn as sns\n",
    "from sklearn import tree\n",
    "from sklearn.model_selection import train_test_split, GridSearchCV, KFold\n",
    "from sklearn.metrics import accuracy_score\n",
    "from sklearn.tree import plot_tree"
   ]
  },
  {
   "cell_type": "markdown",
   "metadata": {},
   "source": [
    "## Descriptive Statistics\n",
    "The first step is to visually inspect the new data set and clean it up if necessary."
   ]
  },
  {
   "cell_type": "code",
   "execution_count": null,
   "metadata": {},
   "outputs": [],
   "source": [
    "data = pd.read_csv('career_change_prediction_dataset.csv')\n",
    "\n",
    "data.head()"
   ]
  },
  {
   "cell_type": "markdown",
   "metadata": {},
   "source": [
    "This exploration will focus on 14 of the 23 variables presented in this dataset: Field of Study, Years of Expereince, Education Level, Current Occupation, Idustry Growth Rate, Job Satisfaction, Work-Life Balance, Job Opportunities, Salary, Job Security, Career Change Interest, Skills Gap, Family Influence, Mentorship Available\n",
    "\n",
    "Let's check for missing variables:"
   ]
  },
  {
   "cell_type": "code",
   "execution_count": null,
   "metadata": {},
   "outputs": [],
   "source": [
    "# Check for missing values or duplicate rows\n",
    "data_quality = print_data_quality(data)\n",
    "\n",
    "data_quality"
   ]
  },
  {
   "cell_type": "markdown",
   "metadata": {},
   "source": [
    "Even if it has been reported that there are no empty cells and no duplicates within the dataset, it doesn't hurt to double check manually and clean it up in the process."
   ]
  },
  {
   "cell_type": "code",
   "execution_count": null,
   "metadata": {},
   "outputs": [],
   "source": [
    "# Remove any duplicate values\n",
    "data = data.drop_duplicates()\n",
    "\n",
    "# Removes any NaN values\n",
    "data = data.dropna()\n",
    "\n",
    "# Check for NaN values in the dataset\n",
    "na_values = data.isna()\n",
    "\n",
    "# Print the Dataset with NaN values\n",
    "if na_values.any().any(): # Checks if there are any NaN values in the dataset\n",
    "  print('NaN values in the dataset:')\n",
    "  print(data[na_values])\n",
    "else:\n",
    "  print('No NaN values in the dataset')\n",
    "\n",
    "data.head()"
   ]
  },
  {
   "cell_type": "markdown",
   "metadata": {},
   "source": [
    "Following the completion of the data cleaning process, including the resolution of any missing (NaN) or duplicate values, the next step involves removing all irrelevant columns not pertinent to the scope of the current analysis. This step ensures the dataset is streamlined and focused on the variables of interest. Subsequently, the structure of the dataset can be examined, allowing for a comprehensive understanding of its remaining composition, including the number of rows, columns, and the specific attributes contained within the relevant columns."
   ]
  },
  {
   "cell_type": "code",
   "execution_count": null,
   "metadata": {},
   "outputs": [],
   "source": [
    "# Drop columns not focused on for analysis\n",
    "data = data.drop(['Age', 'Gender', 'Certifications', 'Freelancing Experience', 'Geographic Mobility', 'Professional Networks', 'Technology Adoption'], axis=1)\n",
    "\n",
    "# Check to see if all columns are accurately represented and all null values have been eliminated\n",
    "data.info()"
   ]
  },
  {
   "cell_type": "code",
   "execution_count": null,
   "metadata": {},
   "outputs": [],
   "source": [
    "data.describe()"
   ]
  },
  {
   "cell_type": "code",
   "execution_count": null,
   "metadata": {},
   "outputs": [],
   "source": [
    "# Remap the int categories to str\n",
    "data['Likely to Change Occupation'] = data['Likely to Change Occupation'].map({\n",
    "  0: 'No',\n",
    "  1: 'Yes',\n",
    "})\n",
    "\n",
    "# Count the class distribution\n",
    "change_occupation = data.groupby('Likely to Change Occupation')\n",
    "\n",
    "change_occupation.count()"
   ]
  },
  {
   "cell_type": "markdown",
   "metadata": {},
   "source": [
    "### Description\n",
    "In the results displayed, you can see the data has 38,444 records, each with 23 columns.\n",
    "\n",
    "Likely to Change Occupation is a categorical variable represented with numerical values (0 indicating no and 1 indicating yes).\n",
    "\n",
    "Missing attribute values: none\n",
    "\n",
    "Class distribution: 16279 not likely to change occupation, 22165 likely to change occupation\n",
    "\n",
    "## Visualize Distribution of Data\n",
    "The primary objective of visualizing the data in this context is twofold: first, to identify the features that are most effective in predicting whether an individual in a specific field is likely to experience an occupational change; second, to observe general trends within the data that may inform and guide the selection of an appropriate model."
   ]
  },
  {
   "cell_type": "code",
   "execution_count": null,
   "metadata": {},
   "outputs": [],
   "source": [
    "# View the distribution of the target variable\n",
    "fig, ax = plt.subplots(1, 2, figsize=(12, 5))\n",
    "x1 = data['Years of Experience']\n",
    "y1 = data['Job Satisfaction']\n",
    "x2 = data['Salary']\n",
    "y2 = data['Job Opportunities']\n",
    "\n",
    "# Left scatter plot\n",
    "sns.scatterplot(data=data, x=x1, y=y1, ax=ax[0], hue='Likely to Change Occupation')\n",
    "ax[0].set_title('Years of Experience vs. Job Satisfaction')\n",
    "\n",
    "# Right scatter plot\n",
    "sns.scatterplot(data=data, x=x2, y=y2, ax=ax[1], hue='Likely to Change Occupation')\n",
    "ax[1].set_title('Salary vs. Job opportunities')\n",
    "\n",
    "plt.tight_layout()\n",
    "plt.show()"
   ]
  },
  {
   "cell_type": "code",
   "execution_count": null,
   "metadata": {},
   "outputs": [],
   "source": [
    "fig, ax = plt.subplots(1, 2, figsize=(12, 5))\n",
    "\n",
    "# Density plot of Years of Experience distribution\n",
    "sns.kdeplot(data[data['Likely to Change Occupation'] == 'Yes']['Years of Experience'], fill=True, label='Yes', ax=ax[0])\n",
    "sns.kdeplot(data[data['Likely to Change Occupation'] == 'No']['Years of Experience'], fill=True, label='No', ax=ax[0])\n",
    "ax[0].set_title('Density Plot of Years of Experience by Likely to Change Occupation')\n",
    "\n",
    "# Density plot of Job Satisfaction distribution\n",
    "sns.kdeplot(data[data['Likely to Change Occupation'] == 'Yes']['Job Satisfaction'], fill=True, label='Yes', ax=ax[1])\n",
    "sns.kdeplot(data[data['Likely to Change Occupation'] == 'No']['Job Satisfaction'], fill=True, label='No', ax=ax[1])\n",
    "ax[1].set_title('Density Plot of Job Satisfaction by Likely to Change Occupation')\n",
    "\n",
    "plt.legend()\n",
    "plt.show()"
   ]
  },
  {
   "cell_type": "code",
   "execution_count": null,
   "metadata": {},
   "outputs": [],
   "source": [
    "# fig, ax = plt.subplots(1, 3, figsize=(18, 6))\n",
    "\n",
    "# Boxplot for Years of Experience vs. Likely to Change Occupation\n",
    "# data['Years of Experience'] = data['Years of Experience'].astype(float)\n",
    "# sns.boxplot(x='Likely to Change Occupation', y='Years of Experience', data=data, ax=ax[0])\n",
    "# ax[0].set_title('Years of Experience vs. Likely to Change Occupation')\n",
    "\n",
    "# sns.boxplot(x='Likely to Change Occupation', y='Job Satisfaction', data=data, ax=ax[1])\n",
    "# ax[1].set_title('Job Satisfaction vs. Likely to Change Occupation')\n",
    "\n",
    "# sns.boxplot(x='Likely to Change Occupation', y='Work-Life Balance', data=data, ax=ax[2])\n",
    "# ax[2].set_title('Work-Life Balance vs. Likely to Change Occupation')\n",
    "\n",
    "# plt.tight_layout()"
   ]
  },
  {
   "cell_type": "markdown",
   "metadata": {},
   "source": [
    "The overall distribution of the data is notably...\n",
    "\n",
    "## Model Building\n",
    "### High Complexity Model"
   ]
  },
  {
   "cell_type": "code",
   "execution_count": null,
   "metadata": {},
   "outputs": [],
   "source": [
    "# Apply mappings to columns\n",
    "mappings = {\n",
    "  'Field of Study': {\n",
    "    'Medicine': 1,\n",
    "    'Education': 2,\n",
    "    'Arts': 3,\n",
    "    'Computer Science': 4,\n",
    "    'Business': 5,\n",
    "    'Mechanical Engineering': 6,\n",
    "    'Biology': 7,\n",
    "    'Law': 8,\n",
    "    'Economics': 9,\n",
    "    'Psychology': 10,\n",
    "  },\n",
    "  'Current Occupation': {\n",
    "    'Business Analyst': 1,\n",
    "    'Economist': 2,\n",
    "    'Biologist': 3,\n",
    "    'Doctor': 4,\n",
    "    'Lawyer': 5,\n",
    "    'Software Developer': 6,\n",
    "    'Artist': 7,\n",
    "    'Psychologist': 8,\n",
    "    'Teacher': 9,\n",
    "    'Mechanical Engineer': 10,\n",
    "  },\n",
    "  'Education Level': {\n",
    "    'High School': 1,\n",
    "    'Bachelor\\'s': 2,\n",
    "    'Master\\'s': 3,\n",
    "    'PhD': 4,\n",
    "  },\n",
    "  'Industry Growth Rate': {\n",
    "    'Low': 1,\n",
    "    'Medium': 2,\n",
    "    'High': 3,\n",
    "  },\n",
    "  'Family Influence': {\n",
    "    'None': 1,\n",
    "    'Low': 2,\n",
    "    'Medium': 3,\n",
    "    'High': 4,\n",
    "  }\n",
    "}\n",
    "\n",
    "# Map the columns\n",
    "for column, mapping in mappings.items():\n",
    "  data[column] = data[column].map(mapping)"
   ]
  },
  {
   "cell_type": "code",
   "execution_count": null,
   "metadata": {},
   "outputs": [],
   "source": [
    "features = data.drop('Likely to Change Occupation', axis=1)\n",
    "target = data['Likely to Change Occupation']\n",
    "x_train, x_test, y_train, y_test = train_test_split(features, target, test_size=0.2, shuffle=True, random_state=42)"
   ]
  },
  {
   "cell_type": "markdown",
   "metadata": {},
   "source": [
    "* `x_train` - Training features used to fit (train) the model\n",
    "* `x_test` - Testing features used to test the model\n",
    "* `y_train` - Training target labels used to fit (train) the model\n",
    "* `y_test` - Testing target labels used to compare against the model predicited labels"
   ]
  },
  {
   "cell_type": "code",
   "execution_count": null,
   "metadata": {},
   "outputs": [],
   "source": [
    "dtree = tree.DecisionTreeClassifier(criterion='entropy', max_depth=None, random_state=42)\n",
    "\n",
    "dtree.fit(x_train, y_train)\n",
    "\n",
    "pred_train = dtree.predict(x_train)\n",
    "pred_test = dtree.predict(x_test)\n",
    "\n",
    "print('Train Accuracy: {:3.2f}'.format(accuracy_score(y_train, pred_train)))\n",
    "print('Test Accuracy: {:3.2f}'.format(accuracy_score(y_test, pred_test)))\n",
    "\n",
    "fig, ax = plt.subplots(1, 1, figsize=(9, 9), dpi=150)\n",
    "\n",
    "plot_tree(dtree, fontsize=4, filled=True, max_depth=3, feature_names=features.columns, class_names=['No', 'Yes'])"
   ]
  },
  {
   "cell_type": "markdown",
   "metadata": {},
   "source": [
    "### Low Complexity Model"
   ]
  },
  {
   "cell_type": "code",
   "execution_count": null,
   "metadata": {},
   "outputs": [],
   "source": [
    "dtree = tree.DecisionTreeClassifier(criterion='entropy', max_depth=1, random_state=42)\n",
    "\n",
    "dtree.fit(x_train, y_train)\n",
    "\n",
    "pred_train = dtree.predict(x_train)\n",
    "pred_test = dtree.predict(x_test)\n",
    "\n",
    "print('Train Accuracy: {:3.2f}'.format(accuracy_score(y_train, pred_train)))\n",
    "print('Test Accuracy: {:3.2f}'.format(accuracy_score(y_test, pred_test)))\n",
    "\n",
    "fig, ax = plt.subplots(1, 1, figsize=(3, 3), dpi=150)\n",
    "\n",
    "plot_tree(dtree, fontsize=4, filled=True, max_depth=3, feature_names=features.columns, class_names=['No', 'Yes'])"
   ]
  },
  {
   "cell_type": "markdown",
   "metadata": {},
   "source": [
    "In the low complexity model, there are only two comparisons being made, which indeicates underfitting. The model is basing its decision solely on a single attribute, job satisfaction. Specifically, if an individual's job satisfaction is less than or equal to 4.5, they are predicted to change their career. While this pattern holds within the dataset, it oversimplifies the reason why people go through a career change, overlooking other potential factors and outcomes that could arise due to the inherent complexity of human satisfaction. In this case the only decision that can be made would be: if a person rates their job satisfaction as a 4.5, they are going to change their career.\n",
    "\n",
    "The high complexity model, with approximately six comparisons, clearly exhibits a perfect fitting as both training and testing splits have yielded a 100% accuracy. In this case, a medium complexity model is not necessary.\n",
    "\n",
    "### Grid Search with Cross Validation"
   ]
  },
  {
   "cell_type": "code",
   "execution_count": null,
   "metadata": {},
   "outputs": [],
   "source": [
    "# 5-Fold cross validation and shuffle the data\n",
    "cv = KFold(n_splits=5, shuffle=True)\n",
    "\n",
    "# Setting up grid search\n",
    "model = tree.DecisionTreeClassifier()\n",
    "param_grid = {\n",
    "  'max_depth': list(range(1, 11)),\n",
    "  'criterion': ['entropy', 'gini'],\n",
    "}\n",
    "\n",
    "grid = GridSearchCV(model, param_grid, cv=5)\n",
    "\n",
    "# Performing the grid search\n",
    "grid.fit(x_train, y_train)\n",
    "\n",
    "# Print the results\n",
    "print('Best Parameters: {}'.format(grid.best_params_))"
   ]
  },
  {
   "cell_type": "code",
   "execution_count": null,
   "metadata": {},
   "outputs": [],
   "source": [
    "# Visualize the model\n",
    "fig, ax = plt.subplots(1, 1, figsize=(3, 3), dpi=150)\n",
    "\n",
    "plot_tree(grid.best_estimator_, fontsize=4, filled=True, max_depth=3, feature_names=features.columns, class_names=['No', 'Yes'])"
   ]
  },
  {
   "cell_type": "code",
   "execution_count": null,
   "metadata": {},
   "outputs": [],
   "source": [
    "# Prediction and accuracy\n",
    "pred_test = grid.best_estimator_.predict(x_test)\n",
    "\n",
    "print('Accuracy of optimal model: {:3.2f}'.format(accuracy_score(y_test, pred_test)))"
   ]
  },
  {
   "cell_type": "markdown",
   "metadata": {},
   "source": [
    "The optimal classifier, along with the best set of hyperparameters, was identified as the entropy criterion with a maximum depth of 3. Interestingly, this aligns with the high complexity model, suggesting that the high complexity model is indeed the most suitable choice.\n",
    "\n",
    "I decided to perform a cross-validation, a critical step in the machine learning process, to ensure the selected model is both robust and generalizes well to unseen data. In this case, the mean accuracy of the best model is identical to that of the high complexity model, with an accuracy score of 100%. Thid conclusively indicates that the high complexity model is the most appropriate for deployment."
   ]
  },
  {
   "cell_type": "markdown",
   "metadata": {},
   "source": [
    "## Scatter Matrix"
   ]
  },
  {
   "cell_type": "code",
   "execution_count": null,
   "metadata": {},
   "outputs": [],
   "source": [
    "# Check for NaN values after mapping\n",
    "# if data.isnull().values.any():\n",
    "#   print(\"There are NaN values in the data after mapping...\")\n",
    "fields_to_check = ['Field of Study', 'Current Occupation', 'Education Level', 'Industry Growth Rate', 'Family Influence', 'Likely to Change Occupation']\n",
    "unique_values = {field: data[field].unique() for field in fields_to_check}\n",
    "\n",
    "unique_values\n",
    "\n",
    "# Check for NaN values introduced during mapping\n",
    "nan_columns = data.columns[data.isnull().any()]\n",
    "nan_info = {col: data[col].isnull().sum() for col in nan_columns}\n",
    "\n",
    "nan_info\n",
    "\n",
    "# Ensure 'Likely to Change Occupation' is numeric\n",
    "data['Likely to Change Occupation'] = pd.to_numeric(data['Likely to Change Occupation'], errors='coerce')\n",
    "\n",
    "# Plot the pairplot\n",
    "sns.pairplot(data, vars=['Years of Experience', 'Job Satisfaction', 'Work-Life Balance', 'Job Opportunities', 'Salary', 'Job Security', 'Career Change Interest', 'Skills Gap', 'Mentorship Available', 'Career Change Events'], height=4)\n",
    "plt.show()"
   ]
  }
 ],
 "metadata": {
  "kernelspec": {
   "display_name": "env",
   "language": "python",
   "name": "python3"
  },
  "language_info": {
   "codemirror_mode": {
    "name": "ipython",
    "version": 3
   },
   "file_extension": ".py",
   "mimetype": "text/x-python",
   "name": "python",
   "nbconvert_exporter": "python",
   "pygments_lexer": "ipython3",
   "version": "3.13.0"
  }
 },
 "nbformat": 4,
 "nbformat_minor": 2
}
